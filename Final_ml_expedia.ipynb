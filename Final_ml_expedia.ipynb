{
 "cells": [
  {
   "cell_type": "markdown",
   "metadata": {},
   "source": [
    "## Group Name: Yolo\n",
    "\n",
    "### Group Members: \n",
    "\n",
    "#### Dillon Quan\n",
    "#### Mikio Tada\n",
    "#### Shrikar Thodla"
   ]
  },
  {
   "cell_type": "code",
   "execution_count": 1,
   "metadata": {
    "ExecuteTime": {
     "end_time": "2019-12-07T07:36:54.186547Z",
     "start_time": "2019-12-07T07:36:54.174142Z"
    }
   },
   "outputs": [],
   "source": [
    "# import the necessary libraries\n",
    "from rfpimp import *\n",
    "from sklearn.metrics import precision_score, confusion_matrix, classification_report\n",
    "from sklearn.metrics import f1_score, accuracy_score\n",
    "from sklearn.model_selection import RandomizedSearchCV\n",
    "from sklearn.model_selection import StratifiedShuffleSplit\n",
    "from sklearn.ensemble import RandomForestClassifier\n",
    "from sklearn.linear_model import LogisticRegression\n",
    "from sklearn.tree import DecisionTreeClassifier\n",
    "from sklearn.neighbors import KNeighborsClassifier\n",
    "from sklearn.preprocessing import StandardScaler\n",
    "from sklearn.model_selection import train_test_split\n",
    "from sklearn.pipeline import Pipeline\n",
    "from sklearn.compose import ColumnTransformer\n",
    "from sklearn.impute import SimpleImputer\n",
    "from tqdm import tqdm\n",
    "\n",
    "import matplotlib.pyplot as plt\n",
    "import warnings\n",
    "import numpy as np\n",
    "import pandas as pd\n",
    "pd.options.display.max_columns = None\n",
    "warnings.filterwarnings('ignore')"
   ]
  },
  {
   "cell_type": "markdown",
   "metadata": {},
   "source": [
    "## Load Data"
   ]
  },
  {
   "cell_type": "code",
   "execution_count": 2,
   "metadata": {
    "ExecuteTime": {
     "end_time": "2019-12-07T08:28:47.776560Z",
     "start_time": "2019-12-07T08:28:26.838581Z"
    }
   },
   "outputs": [],
   "source": [
    "# reading in the file into pandas dataframe\n",
    "df = pd.read_csv('train_reduce.csv')\n",
    "\n",
    "# separating the target variable and the predictor variables\n",
    "df_X = df.drop(columns=['hotel_cluster'])\n",
    "df_y = df['hotel_cluster']"
   ]
  },
  {
   "cell_type": "code",
   "execution_count": 3,
   "metadata": {
    "ExecuteTime": {
     "end_time": "2019-12-07T08:28:48.594430Z",
     "start_time": "2019-12-07T08:28:47.781935Z"
    }
   },
   "outputs": [
    {
     "data": {
      "image/png": "[encoded data removed]",
      "text/plain": [
       "<Figure size 432x288 with 1 Axes>"
      ]
     },
     "metadata": {
      "needs_background": "light"
     },
     "output_type": "display_data"
    }
   ],
   "source": [
    "# Checking the distributions of each target label\n",
    "clusters = []\n",
    "for idx in range(0, 10):\n",
    "    clusters.append(df_y.loc[(df_y == idx)].shape[0])\n",
    "\n",
    "# bar graph for the number of samples per class\n",
    "plt.bar([idx for idx in range(10)], [cluster/1000 for cluster in clusters], color='#063260')\n",
    "plt.xticks(np.arange(10))\n",
    "plt.title('Distribution of each class')\n",
    "plt.xlabel('Hotel Cluster IDs')\n",
    "plt.ylabel('Number of Samples (Thousands)')\n",
    "plt.show()"
   ]
  },
  {
   "cell_type": "code",
   "execution_count": 4,
   "metadata": {
    "ExecuteTime": {
     "end_time": "2019-12-07T08:28:56.541802Z",
     "start_time": "2019-12-07T08:28:48.598653Z"
    }
   },
   "outputs": [],
   "source": [
    "# using stratified shuffle split to get 25% of the filter data while maintaing the distribution (~ 1mil samples)\n",
    "sss = StratifiedShuffleSplit(n_splits=1, train_size=0.25, random_state=0)\n",
    "for train_idx, test_idx in sss.split(df_X, df_y):\n",
    "    X_train, X_test = df_X.iloc[train_idx], df_X.iloc[test_idx]\n",
    "    y_train, y_test = df_y.iloc[train_idx], df_y.iloc[test_idx]"
   ]
  },
  {
   "cell_type": "markdown",
   "metadata": {},
   "source": [
    "## Datetime Feature Engineering"
   ]
  },
  {
   "cell_type": "code",
   "execution_count": 5,
   "metadata": {
    "ExecuteTime": {
     "end_time": "2019-12-07T08:28:56.562992Z",
     "start_time": "2019-12-07T08:28:56.545434Z"
    }
   },
   "outputs": [],
   "source": [
    "def datetime_eng(dataframe):\n",
    "    \"\"\"Perform the proper datetime feature engineering on the appropriate features.\"\"\"\n",
    "    \n",
    "    # feature engineering into datetime\n",
    "    dataframe['date_time'] = pd.to_datetime(dataframe['date_time'], yearfirst=True)\n",
    "    dataframe['srch_ci'] = pd.to_datetime(dataframe['srch_ci'], yearfirst=True, errors='coerce')\n",
    "    dataframe['srch_co'] = pd.to_datetime(dataframe['srch_co'], yearfirst=True, errors='coerce')\n",
    "\n",
    "    # timedelta for days in advance feature\n",
    "    dataframe['advance'] = dataframe['srch_ci'] - dataframe['date_time']\n",
    "    dataframe['advance'] = dataframe.advance.dt.days\n",
    "\n",
    "    # duration of stays\n",
    "    dataframe['duration'] = dataframe['srch_co'] - dataframe['srch_ci']\n",
    "    dataframe['duration'] = dataframe.duration.dt.days\n",
    "    \n",
    "    return dataframe"
   ]
  },
  {
   "cell_type": "code",
   "execution_count": 6,
   "metadata": {
    "ExecuteTime": {
     "end_time": "2019-12-07T08:29:36.113777Z",
     "start_time": "2019-12-07T08:29:36.102119Z"
    }
   },
   "outputs": [],
   "source": [
    "def drop_col(dataframe):\n",
    "    \"\"\"Drop the unecessary columns.\"\"\"\n",
    "    dataframe = dataframe.drop(columns=['user_id', 'site_name',\n",
    "                                        'user_location_region',\n",
    "                                        'date_time', 'srch_ci',\n",
    "                                        'srch_co'])\n",
    "    return dataframe"
   ]
  },
  {
   "cell_type": "code",
   "execution_count": 7,
   "metadata": {
    "ExecuteTime": {
     "end_time": "2019-12-07T08:29:42.660996Z",
     "start_time": "2019-12-07T08:29:40.022862Z"
    }
   },
   "outputs": [],
   "source": [
    "# reset the index after randomly sampling a subset\n",
    "sample_x = X_train.reset_index(drop=True)\n",
    "sample_y = y_train.reset_index(drop=True)\n",
    "\n",
    "# calling datetime and drop column\n",
    "sample_x = datetime_eng(sample_x)\n",
    "sample_x = drop_col(sample_x)"
   ]
  },
  {
   "cell_type": "markdown",
   "metadata": {},
   "source": [
    "## Pipeline"
   ]
  },
  {
   "cell_type": "code",
   "execution_count": 8,
   "metadata": {
    "ExecuteTime": {
     "end_time": "2019-12-07T08:29:51.613947Z",
     "start_time": "2019-12-07T08:29:50.963617Z"
    }
   },
   "outputs": [
    {
     "data": {
      "text/plain": [
       "((784124, 19), (196031, 19))"
      ]
     },
     "execution_count": 8,
     "metadata": {},
     "output_type": "execute_result"
    }
   ],
   "source": [
    "# Train test split the data\n",
    "xtrain, xtest, ytrain, ytest = train_test_split(sample_x, sample_y, test_size=.2, random_state=42)\n",
    "xtrain.shape, xtest.shape"
   ]
  },
  {
   "cell_type": "code",
   "execution_count": 9,
   "metadata": {
    "ExecuteTime": {
     "end_time": "2019-12-07T08:30:06.125864Z",
     "start_time": "2019-12-07T08:30:06.109083Z"
    }
   },
   "outputs": [],
   "source": [
    "# Building the pipeline\n",
    "def make_pipeline():\n",
    "    \"\"\"This function here makes the pipeline but does not include the clf to prevent data leakage.\"\"\"\n",
    "    \n",
    "    date_features = ['advance', 'duration']\n",
    "    date_transformer = Pipeline(steps=[('imp', SimpleImputer(missing_values=np.nan, strategy='constant', fill_value=0))])\n",
    "\n",
    "    distance = ['orig_destination_distance']\n",
    "    distance_transformer = Pipeline(steps=[('imp', SimpleImputer(missing_values=np.nan, strategy='mean'))])\n",
    "\n",
    "    preprocessor = ColumnTransformer(transformers=[('date', date_transformer, date_features),\n",
    "                                                   ('dist', distance_transformer, distance)],\n",
    "                                                   remainder='passthrough')\n",
    "    \n",
    "    return preprocessor"
   ]
  },
  {
   "cell_type": "code",
   "execution_count": 10,
   "metadata": {
    "ExecuteTime": {
     "end_time": "2019-12-07T08:41:03.662043Z",
     "start_time": "2019-12-07T08:41:03.651093Z"
    }
   },
   "outputs": [],
   "source": [
    "def make_random_cv(cv, n_iter, n_estimators):\n",
    "    \"\"\"\n",
    "    Steps:\n",
    "    1. Define Estimator\n",
    "    2. Define hyperparameter search space\n",
    "    3. Instantiate RandomizedSearchCV\n",
    "    \"\"\"\n",
    "    \n",
    "    rf = RandomForestClassifier(n_estimators=n_estimators,\n",
    "                                random_state=42, \n",
    "                                max_depth=10, \n",
    "                                oob_score=True,\n",
    "                                n_jobs=4)\n",
    "    \n",
    "    params_grid = {'max_features': [2, 5, 10, 16],\n",
    "                  'min_samples_leaf': [100, 500, 1000, 2000]}\n",
    "    \n",
    "    clf_random_cv = RandomizedSearchCV(estimator=rf, scoring='precision_weighted',\n",
    "                                       param_distributions=params_grid,\n",
    "                                       n_iter=n_iter, cv=cv)\n",
    "                                         \n",
    "    return clf_random_cv"
   ]
  },
  {
   "cell_type": "code",
   "execution_count": 11,
   "metadata": {
    "ExecuteTime": {
     "end_time": "2019-12-07T08:30:11.644043Z",
     "start_time": "2019-12-07T08:30:11.057408Z"
    }
   },
   "outputs": [
    {
     "data": {
      "text/plain": [
       "(784124, 19)"
      ]
     },
     "execution_count": 11,
     "metadata": {},
     "output_type": "execute_result"
    }
   ],
   "source": [
    "# make the pipeline and transform the data\n",
    "pipeline = make_pipeline()\n",
    "trans_xtrain = pipeline.fit_transform(xtrain)\n",
    "trans_xtest = pipeline.transform(xtest)\n",
    "trans_xtrain.shape  # sanity check of datashape"
   ]
  },
  {
   "cell_type": "markdown",
   "metadata": {},
   "source": [
    "## Baseline Models with different ML Algorithms\n",
    "Evaluated on accuracy and precision but focusing on maximizing precision to make sure expedia can predict customer behavior as much as possible."
   ]
  },
  {
   "cell_type": "markdown",
   "metadata": {},
   "source": [
    "### Random Forest"
   ]
  },
  {
   "cell_type": "code",
   "execution_count": 12,
   "metadata": {
    "ExecuteTime": {
     "end_time": "2019-12-07T08:42:10.925624Z",
     "start_time": "2019-12-07T08:41:10.086076Z"
    }
   },
   "outputs": [
    {
     "data": {
      "text/plain": [
       "{'min_samples_leaf': 100, 'max_features': 10}"
      ]
     },
     "execution_count": 12,
     "metadata": {},
     "output_type": "execute_result"
    }
   ],
   "source": [
    "# creating the RandomizedSearchCV and using the best estimator\n",
    "randomize_clf = make_random_cv(3, 5, 2)  # 3-fold, 5 iterations\n",
    "randomize_clf.fit(trans_xtrain, ytrain)\n",
    "best_rf = randomize_clf.best_estimator_  # returning the best estimator\n",
    "randomize_clf.best_params_"
   ]
  },
  {
   "cell_type": "code",
   "execution_count": 13,
   "metadata": {
    "ExecuteTime": {
     "end_time": "2019-12-07T08:44:37.902161Z",
     "start_time": "2019-12-07T08:44:27.354036Z"
    }
   },
   "outputs": [
    {
     "name": "stdout",
     "output_type": "stream",
     "text": [
      "Out-of-Bag Accuracy: 0.348910376420056\n",
      "Train Accuracy: 0.5385946610485076\n",
      "Test Accuracy: 0.5371038254153679\n"
     ]
    }
   ],
   "source": [
    "# fitting the best estimator and getting the training scores\n",
    "best_rf.fit(trans_xtrain, ytrain)\n",
    "print(f\"Out-of-Bag Accuracy: {best_rf.oob_score_}\")\n",
    "print(f\"Train Accuracy: {accuracy_score(ytrain, best_rf.predict(trans_xtrain))}\")\n",
    "print(f\"Test Accuracy: {accuracy_score(ytest, best_rf.predict(trans_xtest))}\")"
   ]
  },
  {
   "cell_type": "code",
   "execution_count": 14,
   "metadata": {
    "ExecuteTime": {
     "end_time": "2019-12-07T08:42:21.107695Z",
     "start_time": "2019-12-07T08:42:20.013553Z"
    }
   },
   "outputs": [
    {
     "name": "stdout",
     "output_type": "stream",
     "text": [
      "Training weighted-precision-score: 0.5368408627525797\n",
      "Testing weighted-precision-score: 0.5350702111044754\n"
     ]
    }
   ],
   "source": [
    "# getting the test precision scores\n",
    "print(f\"Training weighted-precision-score: {precision_score(ytrain, best_rf.predict(trans_xtrain), average='weighted')}\")\n",
    "print(f\"Testing weighted-precision-score: {precision_score(ytest, best_rf.predict(trans_xtest), average='weighted')}\")"
   ]
  },
  {
   "cell_type": "markdown",
   "metadata": {},
   "source": [
    "### Decision Tree"
   ]
  },
  {
   "cell_type": "code",
   "execution_count": 15,
   "metadata": {},
   "outputs": [
    {
     "data": {
      "text/plain": [
       "DecisionTreeClassifier(class_weight=None, criterion='gini', max_depth=None,\n",
       "                       max_features=None, max_leaf_nodes=None,\n",
       "                       min_impurity_decrease=0.0, min_impurity_split=None,\n",
       "                       min_samples_leaf=1, min_samples_split=2,\n",
       "                       min_weight_fraction_leaf=0.0, presort=False,\n",
       "                       random_state=None, splitter='best')"
      ]
     },
     "execution_count": 15,
     "metadata": {},
     "output_type": "execute_result"
    }
   ],
   "source": [
    "dt = DecisionTreeClassifier()\n",
    "dt.fit(trans_xtrain, ytrain)"
   ]
  },
  {
   "cell_type": "code",
   "execution_count": 16,
   "metadata": {},
   "outputs": [
    {
     "name": "stdout",
     "output_type": "stream",
     "text": [
      "Training Accuracy Score: 0.9953986869423713\n",
      "Testing Accuracy Score: 0.586335834638399\n"
     ]
    }
   ],
   "source": [
    "# Accuracy scores\n",
    "print(f\"Training Accuracy Score: {accuracy_score(ytrain, dt.predict(trans_xtrain))}\")\n",
    "print(f\"Testing Accuracy Score: {accuracy_score(ytest, dt.predict(trans_xtest))}\")"
   ]
  },
  {
   "cell_type": "code",
   "execution_count": 17,
   "metadata": {},
   "outputs": [
    {
     "name": "stdout",
     "output_type": "stream",
     "text": [
      "              precision    recall  f1-score   support\n",
      "\n",
      "           0       1.00      1.00      1.00     75918\n",
      "           1       1.00      1.00      1.00     90583\n",
      "           2       0.99      1.00      0.99     86805\n",
      "           3       0.99      1.00      1.00     45062\n",
      "           4       1.00      1.00      1.00     70263\n",
      "           5       0.99      0.99      0.99    124021\n",
      "           6       1.00      0.99      1.00     76828\n",
      "           7       1.00      0.99      1.00     50547\n",
      "           8       1.00      0.99      0.99     66269\n",
      "           9       1.00      0.99      0.99     97828\n",
      "\n",
      "    accuracy                           1.00    784124\n",
      "   macro avg       1.00      1.00      1.00    784124\n",
      "weighted avg       1.00      1.00      1.00    784124\n",
      "\n"
     ]
    }
   ],
   "source": [
    "# Training Classification Report\n",
    "print(classification_report(ytrain, dt.predict(trans_xtrain)))"
   ]
  },
  {
   "cell_type": "code",
   "execution_count": 18,
   "metadata": {},
   "outputs": [
    {
     "name": "stdout",
     "output_type": "stream",
     "text": [
      "              precision    recall  f1-score   support\n",
      "\n",
      "           0       0.73      0.71      0.72     19055\n",
      "           1       0.99      0.99      0.99     22590\n",
      "           2       0.50      0.51      0.50     21825\n",
      "           3       0.48      0.48      0.48     11251\n",
      "           4       0.54      0.54      0.54     17699\n",
      "           5       0.47      0.47      0.47     31027\n",
      "           6       0.46      0.46      0.46     19270\n",
      "           7       0.55      0.55      0.55     12565\n",
      "           8       0.65      0.64      0.65     16495\n",
      "           9       0.49      0.49      0.49     24254\n",
      "\n",
      "    accuracy                           0.59    196031\n",
      "   macro avg       0.59      0.58      0.59    196031\n",
      "weighted avg       0.59      0.59      0.59    196031\n",
      "\n"
     ]
    }
   ],
   "source": [
    "# Testing Classification Report\n",
    "print(classification_report(ytest, dt.predict(trans_xtest)))"
   ]
  },
  {
   "cell_type": "markdown",
   "metadata": {},
   "source": [
    "### Logistic Regression"
   ]
  },
  {
   "cell_type": "code",
   "execution_count": 19,
   "metadata": {},
   "outputs": [],
   "source": [
    "def make_pipelines_lr():\n",
    "    \"\"\"Create pipeline for simple logistic regression.\"\"\"\n",
    "    pipe_log = Pipeline([('clf', LogisticRegression(multi_class='multinomial', solver='lbfgs' ))])\n",
    "    pipelines = [pipe_log]\n",
    "    return pipelines"
   ]
  },
  {
   "cell_type": "code",
   "execution_count": 20,
   "metadata": {},
   "outputs": [],
   "source": [
    "pipelines_lr = make_pipelines_lr()"
   ]
  },
  {
   "cell_type": "code",
   "execution_count": 21,
   "metadata": {},
   "outputs": [],
   "source": [
    "#precision score\n",
    "def sort_models_precision(pipelines, X_data, y_data, metric=accuracy_score, average=\"weighted\"):\n",
    "    \"\"\"This function calculates the precision score.\"\"\"\n",
    "    score = []\n",
    "    \n",
    "    for pipe in pipelines:\n",
    "        name = pipe.steps[-1][1].__class__.__name__.split('.')[-1]\n",
    "        pipe.fit(X_data, y_data)\n",
    "        y_train_pred = pipe.predict(X_data)\n",
    "        accuracy = round(metric(y_data, y_train_pred, average=average), 2)\n",
    "        score.append((name, accuracy))\n",
    "\n",
    "    for model in score:\n",
    "        print(f\"test socre with {model[0]} is {model[1]}\")\n",
    "        \n",
    "    return score"
   ]
  },
  {
   "cell_type": "code",
   "execution_count": 22,
   "metadata": {},
   "outputs": [
    {
     "name": "stdout",
     "output_type": "stream",
     "text": [
      "test socre with LogisticRegression is 0.12\n"
     ]
    },
    {
     "data": {
      "text/plain": [
       "[('LogisticRegression', 0.12)]"
      ]
     },
     "execution_count": 22,
     "metadata": {},
     "output_type": "execute_result"
    }
   ],
   "source": [
    "sort_models_precision(pipelines_lr, trans_xtest, ytest, metric=precision_score)"
   ]
  },
  {
   "cell_type": "code",
   "execution_count": 23,
   "metadata": {},
   "outputs": [],
   "source": [
    "#accuracy score\n",
    "def sort_models_accuracy(pipelines, X_data, y_data, metric=accuracy_score):\n",
    "    \"\"\"This function computes the accuracy of the model.\"\"\"\n",
    "    score = []\n",
    "    \n",
    "    for pipe in pipelines:\n",
    "        name = pipe.steps[-1][1].__class__.__name__.split('.')[-1]\n",
    "        pipe.fit(X_data, y_data)\n",
    "        y_train_pred = pipe.predict(X_data)\n",
    "        accuracy = round(metric(y_data, y_train_pred), 2)\n",
    "        score.append((name, accuracy))\n",
    "\n",
    "    for model in score:\n",
    "        print(f\"test socre with {model[0]} is {model[1]}\")\n",
    "        \n",
    "    return score"
   ]
  },
  {
   "cell_type": "code",
   "execution_count": 24,
   "metadata": {},
   "outputs": [
    {
     "name": "stdout",
     "output_type": "stream",
     "text": [
      "test socre with LogisticRegression is 0.19\n"
     ]
    },
    {
     "data": {
      "text/plain": [
       "[('LogisticRegression', 0.19)]"
      ]
     },
     "execution_count": 24,
     "metadata": {},
     "output_type": "execute_result"
    }
   ],
   "source": [
    "sort_models_accuracy(pipelines_lr, trans_xtest, ytest, metric=accuracy_score)"
   ]
  },
  {
   "cell_type": "markdown",
   "metadata": {},
   "source": [
    "### KNN"
   ]
  },
  {
   "cell_type": "code",
   "execution_count": 25,
   "metadata": {},
   "outputs": [],
   "source": [
    "def make_pipelines_knn():\n",
    "    \"\"\"This function created a pipeline for simple knn model.\"\"\"\n",
    "    pipe_knn = Pipeline([('scl', StandardScaler()),('clf', KNeighborsClassifier())])\n",
    "    pipelines = [pipe_knn]\n",
    "    return pipelines"
   ]
  },
  {
   "cell_type": "code",
   "execution_count": 26,
   "metadata": {},
   "outputs": [],
   "source": [
    "pipelines_knn = make_pipelines_knn()"
   ]
  },
  {
   "cell_type": "code",
   "execution_count": 27,
   "metadata": {},
   "outputs": [
    {
     "name": "stdout",
     "output_type": "stream",
     "text": [
      "test socre with KNeighborsClassifier is 0.53\n"
     ]
    },
    {
     "data": {
      "text/plain": [
       "[('KNeighborsClassifier', 0.53)]"
      ]
     },
     "execution_count": 27,
     "metadata": {},
     "output_type": "execute_result"
    }
   ],
   "source": [
    "sort_models_precision(pipelines_knn, trans_xtest, ytest, metric=precision_score)"
   ]
  },
  {
   "cell_type": "code",
   "execution_count": 28,
   "metadata": {},
   "outputs": [
    {
     "name": "stdout",
     "output_type": "stream",
     "text": [
      "test socre with KNeighborsClassifier is 0.52\n"
     ]
    },
    {
     "data": {
      "text/plain": [
       "[('KNeighborsClassifier', 0.52)]"
      ]
     },
     "execution_count": 28,
     "metadata": {},
     "output_type": "execute_result"
    }
   ],
   "source": [
    "sort_models_accuracy(pipelines_knn, trans_xtest, ytest, metric=accuracy_score)"
   ]
  },
  {
   "cell_type": "markdown",
   "metadata": {},
   "source": [
    "## Hyperparameter Tuning "
   ]
  },
  {
   "cell_type": "markdown",
   "metadata": {},
   "source": [
    "### Random Forest (1 million samples)"
   ]
  },
  {
   "cell_type": "code",
   "execution_count": 29,
   "metadata": {},
   "outputs": [
    {
     "name": "stderr",
     "output_type": "stream",
     "text": [
      "100%|██████████| 6/6 [1:20:30<00:00, 805.16s/it] \n"
     ]
    }
   ],
   "source": [
    "# creating the RandomizedSearchCV and using the best estimator\n",
    "best_params = []\n",
    "oob_scores = []\n",
    "precision_train = []\n",
    "precision_test = []\n",
    "train_acc = []\n",
    "test_acc = []\n",
    "\n",
    "for n in tqdm([1, 5, 10, 20, 50, 100]):\n",
    "    randomize_clf = make_random_cv(cv=3, n_iter=5, n_estimators=n)  # 3-fold, 5 iterations\n",
    "    randomize_clf.fit(trans_xtrain, ytrain)\n",
    "    best_rf = randomize_clf.best_estimator_  # returning the best estimator\n",
    "    \n",
    "    # fitting the best estimator and getting the training scores\n",
    "    best_rf.fit(trans_xtrain, ytrain)\n",
    "    train_acc.append(accuracy_score(ytrain, best_rf.predict(trans_xtrain)))  # train_acc\n",
    "    test_acc.append(accuracy_score(ytest, best_rf.predict(trans_xtest)))  # test_acc\n",
    "    oob_scores.append(best_rf.oob_score_)  # list of oob scores\n",
    "    best_params.append(randomize_clf.best_params_)  # creating a list of best params\n",
    "    precision_train.append(precision_score(ytrain, best_rf.predict(trans_xtrain), average='weighted'))\n",
    "    precision_test.append(precision_score(ytest, best_rf.predict(trans_xtest), average='weighted'))"
   ]
  },
  {
   "cell_type": "code",
   "execution_count": 30,
   "metadata": {},
   "outputs": [
    {
     "data": {
      "image/png": "[encoded data removed]",
      "text/plain": [
       "<Figure size 432x288 with 1 Axes>"
      ]
     },
     "metadata": {
      "needs_background": "light"
     },
     "output_type": "display_data"
    }
   ],
   "source": [
    "# Accuracy Plots\n",
    "n_trees = [1, 5, 10, 20, 50, 100]\n",
    "plt.plot(n_trees, train_acc, label='train')\n",
    "plt.plot(n_trees, test_acc, label='test')\n",
    "plt.plot(n_trees, oob_scores, label='oob')\n",
    "plt.xlabel('Number of Trees')\n",
    "plt.ylabel('Accuracy Scores')\n",
    "plt.title('Number of Trees vs Accuracy Scores')\n",
    "plt.legend(loc='lower right')\n",
    "plt.show()"
   ]
  },
  {
   "cell_type": "code",
   "execution_count": 31,
   "metadata": {},
   "outputs": [
    {
     "data": {
      "image/png": "[encoded data removed]",
      "text/plain": [
       "<Figure size 432x288 with 1 Axes>"
      ]
     },
     "metadata": {
      "needs_background": "light"
     },
     "output_type": "display_data"
    }
   ],
   "source": [
    "# Precision plots\n",
    "plt.plot(n_trees, precision_train, label='train')\n",
    "plt.plot(n_trees, precision_test, label='test')\n",
    "plt.plot(n_trees, oob_scores, label='oob')\n",
    "plt.xlabel('Number of Trees')\n",
    "plt.ylabel('Weighted Precision Scores')\n",
    "plt.title('Number of Trees vs Weighted Precision Scores')\n",
    "plt.legend(loc='lower right')\n",
    "plt.show()"
   ]
  },
  {
   "cell_type": "code",
   "execution_count": 32,
   "metadata": {},
   "outputs": [
    {
     "name": "stdout",
     "output_type": "stream",
     "text": [
      "Best parameters for 1 Trees: {'min_samples_leaf': 500, 'max_features': 16}\n",
      "Best parameters for 5 Trees: {'min_samples_leaf': 1000, 'max_features': 16}\n",
      "Best parameters for 10 Trees: {'min_samples_leaf': 100, 'max_features': 10}\n",
      "Best parameters for 20 Trees: {'min_samples_leaf': 1000, 'max_features': 10}\n",
      "Best parameters for 50 Trees: {'min_samples_leaf': 100, 'max_features': 5}\n",
      "Best parameters for 100 Trees: {'min_samples_leaf': 100, 'max_features': 16}\n"
     ]
    }
   ],
   "source": [
    "# best set of hyperparameters for n_trees\n",
    "for n, param in zip(n_trees, best_params):\n",
    "    print(f\"Best parameters for {n} Trees: {param}\")"
   ]
  },
  {
   "cell_type": "code",
   "execution_count": 33,
   "metadata": {},
   "outputs": [
    {
     "data": {
      "text/plain": [
       "RandomForestClassifier(bootstrap=True, class_weight=None, criterion='gini',\n",
       "                       max_depth=15, max_features='auto', max_leaf_nodes=None,\n",
       "                       min_impurity_decrease=0.0, min_impurity_split=None,\n",
       "                       min_samples_leaf=100, min_samples_split=2,\n",
       "                       min_weight_fraction_leaf=0.0, n_estimators=50, n_jobs=4,\n",
       "                       oob_score=True, random_state=42, verbose=0,\n",
       "                       warm_start=False)"
      ]
     },
     "execution_count": 33,
     "metadata": {},
     "output_type": "execute_result"
    }
   ],
   "source": [
    "# Training the best model according to the plots and randomize search\n",
    "rf = RandomForestClassifier(random_state=42,\n",
    "                            n_jobs=4,\n",
    "                            n_estimators=50,\n",
    "                            min_samples_leaf=100,\n",
    "                            max_depth=15,\n",
    "                            oob_score=True)\n",
    "rf.fit(trans_xtrain, ytrain)"
   ]
  },
  {
   "cell_type": "code",
   "execution_count": 34,
   "metadata": {},
   "outputs": [
    {
     "name": "stdout",
     "output_type": "stream",
     "text": [
      "Training Accuracy Score: 0.5670289393004168\n",
      "Testing Accuracy Score: 0.5586871464207191\n",
      "OOB Accuracy Score: 0.5562117726277986\n"
     ]
    }
   ],
   "source": [
    "# Accuracy scores\n",
    "print(f\"Training Accuracy Score: {accuracy_score(ytrain, rf.predict(trans_xtrain))}\")\n",
    "print(f\"Testing Accuracy Score: {accuracy_score(ytest, rf.predict(trans_xtest))}\")\n",
    "print(f\"OOB Accuracy Score: {rf.oob_score_}\")"
   ]
  },
  {
   "cell_type": "code",
   "execution_count": 35,
   "metadata": {},
   "outputs": [
    {
     "name": "stdout",
     "output_type": "stream",
     "text": [
      "Training weighted-precision-score: 0.5699119434375762\n",
      "Testing weighted-precision-score: 0.5690728823469942\n"
     ]
    }
   ],
   "source": [
    "# Precision scores\n",
    "print(f\"Training weighted-precision-score: {precision_score(ytrain, best_rf.predict(trans_xtrain), average='weighted')}\")\n",
    "print(f\"Testing weighted-precision-score: {precision_score(ytest, best_rf.predict(trans_xtest), average='weighted')}\")"
   ]
  },
  {
   "cell_type": "code",
   "execution_count": 36,
   "metadata": {},
   "outputs": [
    {
     "name": "stdout",
     "output_type": "stream",
     "text": [
      "Training weighted-f1-Score: 0.564168151217385\n",
      "Testing weighted-f1-Score: 0.5633962530744395\n"
     ]
    }
   ],
   "source": [
    "# F1-scores\n",
    "print(f\"Training weighted-f1-Score: {f1_score(ytrain, best_rf.predict(trans_xtrain), average='weighted')}\")\n",
    "print(f\"Testing weighted-f1-Score: {f1_score(ytest, best_rf.predict(trans_xtest), average='weighted')}\")"
   ]
  },
  {
   "cell_type": "code",
   "execution_count": 37,
   "metadata": {},
   "outputs": [
    {
     "name": "stdout",
     "output_type": "stream",
     "text": [
      "              precision    recall  f1-score   support\n",
      "\n",
      "           0       0.61      0.87      0.72     75918\n",
      "           1       0.99      1.00      0.99     90583\n",
      "           2       0.52      0.43      0.47     86805\n",
      "           3       0.63      0.29      0.40     45062\n",
      "           4       0.45      0.62      0.52     70263\n",
      "           5       0.45      0.48      0.46    124021\n",
      "           6       0.44      0.26      0.33     76828\n",
      "           7       0.46      0.43      0.45     50547\n",
      "           8       0.65      0.70      0.67     66269\n",
      "           9       0.48      0.48      0.48     97828\n",
      "\n",
      "    accuracy                           0.57    784124\n",
      "   macro avg       0.57      0.56      0.55    784124\n",
      "weighted avg       0.57      0.57      0.56    784124\n",
      "\n"
     ]
    }
   ],
   "source": [
    "# Training Classification Report\n",
    "print(classification_report(ytrain, rf.predict(trans_xtrain)))"
   ]
  },
  {
   "cell_type": "code",
   "execution_count": 38,
   "metadata": {},
   "outputs": [
    {
     "name": "stdout",
     "output_type": "stream",
     "text": [
      "              precision    recall  f1-score   support\n",
      "\n",
      "           0       0.60      0.86      0.71     19055\n",
      "           1       0.99      1.00      0.99     22590\n",
      "           2       0.51      0.42      0.46     21825\n",
      "           3       0.62      0.28      0.39     11251\n",
      "           4       0.44      0.61      0.51     17699\n",
      "           5       0.43      0.46      0.45     31027\n",
      "           6       0.42      0.25      0.31     19270\n",
      "           7       0.45      0.43      0.44     12565\n",
      "           8       0.65      0.70      0.67     16495\n",
      "           9       0.47      0.47      0.47     24254\n",
      "\n",
      "    accuracy                           0.56    196031\n",
      "   macro avg       0.56      0.55      0.54    196031\n",
      "weighted avg       0.56      0.56      0.55    196031\n",
      "\n"
     ]
    }
   ],
   "source": [
    "# Testing Classification Report\n",
    "print(classification_report(ytest, rf.predict(trans_xtest)))"
   ]
  },
  {
   "cell_type": "code",
   "execution_count": 39,
   "metadata": {},
   "outputs": [],
   "source": [
    "# Feature importance\n",
    "features = ['posa_continent', 'user_location_country', 'user_location_city',\n",
    "       'orig_destination_distance', 'is_mobile', 'is_package', 'channel',\n",
    "       'srch_adults_cnt', 'srch_children_cnt', 'srch_rm_cnt',\n",
    "       'srch_destination_id', 'srch_destination_type_id', 'is_booking', 'cnt',\n",
    "       'hotel_continent', 'hotel_country', 'hotel_market', 'advance',\n",
    "       'duration']\n",
    "df_imp = pd.DataFrame(trans_xtest, columns=features)"
   ]
  },
  {
   "cell_type": "code",
   "execution_count": 40,
   "metadata": {},
   "outputs": [
    {
     "data": {
      "image/png": "[encoded data removed]",
      "text/plain": [
       "<Figure size 288x302.4 with 1 Axes>"
      ]
     },
     "metadata": {
      "needs_background": "light"
     },
     "output_type": "display_data"
    }
   ],
   "source": [
    "imp = importances(rf, df_imp, ytest)\n",
    "viz = plot_importances(imp)\n",
    "viz.view()"
   ]
  },
  {
   "cell_type": "markdown",
   "metadata": {},
   "source": [
    "### Decision Tree (1 million samples)"
   ]
  },
  {
   "cell_type": "code",
   "execution_count": 41,
   "metadata": {},
   "outputs": [
    {
     "data": {
      "image/png": "[encoded data removed]",
      "text/plain": [
       "<Figure size 432x288 with 1 Axes>"
      ]
     },
     "metadata": {
      "needs_background": "light"
     },
     "output_type": "display_data"
    }
   ],
   "source": [
    "num_max_depths = np.arange(1,33)\n",
    "accuracy_train = []\n",
    "accuracy_test = []\n",
    "for depth in num_max_depths:\n",
    "    dt = DecisionTreeClassifier(max_depth=depth)\n",
    "    dt.fit(trans_xtrain, ytrain)\n",
    "    \n",
    "    acc_train = accuracy_score(ytrain, dt.predict(trans_xtrain))\n",
    "    accuracy_train.append(acc_train)\n",
    "    \n",
    "    acc_test = accuracy_score(ytest, dt.predict(trans_xtest))\n",
    "    accuracy_test.append(acc_test)\n",
    "    \n",
    "line1 = plt.plot(num_max_depths, accuracy_train, \"b\", label= \"Train accuracy\")\n",
    "line2 = plt.plot(num_max_depths, accuracy_test, \"r\", label= \"Test accuracy\")\n",
    "\n",
    "plt.title(\"Tree Depth vs Accuracy\")\n",
    "plt.ylabel(\"Accuracy Score\")\n",
    "plt.xlabel(\"Tree Depth\")\n",
    "plt.show()"
   ]
  },
  {
   "cell_type": "markdown",
   "metadata": {},
   "source": [
    "## Best Model (full dataset)"
   ]
  },
  {
   "cell_type": "code",
   "execution_count": 42,
   "metadata": {},
   "outputs": [],
   "source": [
    "# Reset the index\n",
    "sample_x = df_X.reset_index(drop=True)\n",
    "sample_y = df_y.reset_index(drop=True)\n",
    "\n",
    "# Calling datetime and drop column\n",
    "sample_x = datetime_eng(sample_x)\n",
    "sample_x = drop_col(sample_x)"
   ]
  },
  {
   "cell_type": "code",
   "execution_count": 43,
   "metadata": {},
   "outputs": [
    {
     "data": {
      "text/plain": [
       "((3136497, 19), (784125, 19))"
      ]
     },
     "execution_count": 43,
     "metadata": {},
     "output_type": "execute_result"
    }
   ],
   "source": [
    "# Train test split on the data\n",
    "xtrain, xtest, ytrain, ytest = train_test_split(sample_x, sample_y, test_size=.2 ,random_state=42)\n",
    "xtrain.shape, xtest.shape"
   ]
  },
  {
   "cell_type": "code",
   "execution_count": 44,
   "metadata": {},
   "outputs": [],
   "source": [
    "# Make the pipeline and transform the data\n",
    "pipeline = make_pipeline()\n",
    "trans_xtrain = pipeline.fit_transform(xtrain)\n",
    "trans_xtest = pipeline.transform(xtest)"
   ]
  },
  {
   "cell_type": "code",
   "execution_count": 45,
   "metadata": {},
   "outputs": [
    {
     "data": {
      "text/plain": [
       "RandomForestClassifier(bootstrap=True, class_weight=None, criterion='gini',\n",
       "                       max_depth=15, max_features=16, max_leaf_nodes=None,\n",
       "                       min_impurity_decrease=0.0, min_impurity_split=None,\n",
       "                       min_samples_leaf=100, min_samples_split=2,\n",
       "                       min_weight_fraction_leaf=0.0, n_estimators=50, n_jobs=4,\n",
       "                       oob_score=True, random_state=42, verbose=0,\n",
       "                       warm_start=False)"
      ]
     },
     "execution_count": 45,
     "metadata": {},
     "output_type": "execute_result"
    }
   ],
   "source": [
    "# Training the best model according to the plots with more depths (15) (100, 16)\n",
    "rf = RandomForestClassifier(random_state=42,\n",
    "                            n_jobs=4,\n",
    "                            n_estimators=50,\n",
    "                            min_samples_leaf=100,\n",
    "                            max_features=16,\n",
    "                            max_depth=15,\n",
    "                            oob_score=True)\n",
    "rf.fit(trans_xtrain, ytrain)"
   ]
  },
  {
   "cell_type": "code",
   "execution_count": 46,
   "metadata": {},
   "outputs": [
    {
     "name": "stdout",
     "output_type": "stream",
     "text": [
      "Training Accuracy Score: 0.6301211191976271\n",
      "Testing Accuracy Score: 0.6273183484776024\n",
      "Out of Bag Accuracy: 0.6259231237906493\n"
     ]
    }
   ],
   "source": [
    "# Accuracy Score\n",
    "print(f\"Training Accuracy Score: {accuracy_score(ytrain, rf.predict(trans_xtrain))}\")\n",
    "print(f\"Testing Accuracy Score: {accuracy_score(ytest, rf.predict(trans_xtest))}\")\n",
    "print(f\"Out of Bag Accuracy: {rf.oob_score_}\")"
   ]
  },
  {
   "cell_type": "code",
   "execution_count": 47,
   "metadata": {},
   "outputs": [
    {
     "name": "stdout",
     "output_type": "stream",
     "text": [
      "Training weighted-precision-score: 0.5694281345327323\n",
      "Testing weighted-precision-score: 0.5701752209586058\n"
     ]
    }
   ],
   "source": [
    "# Precision scores\n",
    "print(f\"Training weighted-precision-score: {precision_score(ytrain, best_rf.predict(trans_xtrain), average='weighted')}\")\n",
    "print(f\"Testing weighted-precision-score: {precision_score(ytest, best_rf.predict(trans_xtest), average='weighted')}\")"
   ]
  },
  {
   "cell_type": "code",
   "execution_count": 48,
   "metadata": {},
   "outputs": [
    {
     "name": "stdout",
     "output_type": "stream",
     "text": [
      "Training weighted-f1-Score: 0.56\n",
      "Testing weighted-f1-Score: 0.56\n"
     ]
    }
   ],
   "source": [
    "# F1-scores\n",
    "print(f\"Training weighted-f1-Score: {round(f1_score(ytrain, best_rf.predict(trans_xtrain), average='weighted'), 2)}\")\n",
    "print(f\"Testing weighted-f1-Score: {round(f1_score(ytest, best_rf.predict(trans_xtest), average='weighted'), 2)}\")"
   ]
  },
  {
   "cell_type": "code",
   "execution_count": 49,
   "metadata": {},
   "outputs": [
    {
     "name": "stdout",
     "output_type": "stream",
     "text": [
      "              precision    recall  f1-score   support\n",
      "\n",
      "           0       0.67      0.91      0.77     76421\n",
      "           1       0.99      0.99      0.99     90489\n",
      "           2       0.54      0.54      0.54     86933\n",
      "           3       0.70      0.39      0.50     45043\n",
      "           4       0.57      0.64      0.60     70054\n",
      "           5       0.52      0.50      0.51    123879\n",
      "           6       0.54      0.38      0.45     76681\n",
      "           7       0.57      0.53      0.55     50372\n",
      "           8       0.66      0.76      0.71     66592\n",
      "           9       0.53      0.55      0.54     97661\n",
      "\n",
      "    accuracy                           0.63    784125\n",
      "   macro avg       0.63      0.62      0.62    784125\n",
      "weighted avg       0.63      0.63      0.62    784125\n",
      "\n"
     ]
    }
   ],
   "source": [
    "# Testing Classification Report\n",
    "print(classification_report(ytest, rf.predict(trans_xtest)))"
   ]
  },
  {
   "cell_type": "markdown",
   "metadata": {},
   "source": [
    "## Summary\n"
   ]
  },
  {
   "cell_type": "markdown",
   "metadata": {},
   "source": [
    "The goal of this project was to predict which hotel cluster a user will book based on their behaviors on the website and other various information. The business impact of this goal can help Expedia provide personalized hotel recommendations to their users to improve user experience with their vacation planning, which can ultimately increase revenue for Expedia.\n",
    "\n",
    "We downsampled the original dataset from 0-99 (37 million samples) hotel cluster IDs to only 0-9 (4 million samples) hotel cluster IDs. In addition, for a more efficient workflow, we randomly sampled 1 million samples to minimize runtime. Models that we used for this project include Random Forest, Decision Tree, Multiclass Logistic Regression, and k-nearest neighbor. For this problem, precision is the north star metric because we want to develop a model that will predict hotel clusters as precise as possible. \n",
    "\n",
    "After running the four different model with default hyperparameters, we found that Decision Tree and Random Forest are good baseline models to improve. After tuning for the best hyperparameters for these two models, we ran the models with 4 million rows dataset and achieved around 63% weighted average precision score for both Random Forest and Decision Tree.\n",
    "\n",
    "In a business view, a weighted average precision around 63% in our context means that the model can correctly predict 63% each hotel cluster ID 0-9 in weighted average, is correctly predicted. Our model does a better job than randomly predicting a hotel cluster. However, productizing our model depends on how well the current Expedia's model performs. One advantage of our model is its speed in returning a result. Random Forest and Decision Tree are fast to show a predicted hotel cluster once the models are trained. For user experience perspective, a user doesn't have to wait a long time to see the outcome/predicted hotel cluster. "
   ]
  },
  {
   "cell_type": "markdown",
   "metadata": {},
   "source": []
  },
  {
   "cell_type": "code",
   "execution_count": null,
   "metadata": {},
   "outputs": [],
   "source": []
  }
 ],
 "metadata": {
  "kernelspec": {
   "display_name": "Python 3",
   "language": "python",
   "name": "python3"
  },
  "language_info": {
   "codemirror_mode": {
    "name": "ipython",
    "version": 3
   },
   "file_extension": ".py",
   "mimetype": "text/x-python",
   "name": "python",
   "nbconvert_exporter": "python",
   "pygments_lexer": "ipython3",
   "version": "3.7.4"
  }
 },
 "nbformat": 4,
 "nbformat_minor": 2
}
